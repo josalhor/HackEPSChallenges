{
  "nbformat": 4,
  "nbformat_minor": 0,
  "metadata": {
    "colab": {
      "name": "The Challege - Noised MNIST.ipynb",
      "provenance": [],
      "collapsed_sections": [],
      "toc_visible": true,
      "include_colab_link": true
    },
    "kernelspec": {
      "name": "python3",
      "display_name": "Python 3"
    }
  },
  "cells": [
    {
      "cell_type": "markdown",
      "metadata": {
        "colab_type": "text",
        "id": "view-in-github"
      },
      "source": [
        "<a href=\"https://colab.research.google.com/github/Guillem96/noised-mnist-challenge/blob/master/The_Challege_Noised_MNIST.ipynb\" target=\"_parent\"><img src=\"https://colab.research.google.com/assets/colab-badge.svg\" alt=\"Open In Colab\"/></a>"
      ]
    },
    {
      "cell_type": "code",
      "execution_count": 0,
      "metadata": {
        "colab": {},
        "colab_type": "code",
        "id": "ATuItwGEz4p6"
      },
      "outputs": [],
      "source": [
        "import numpy as np\n",
        "\n",
        "from sklearn.pipeline import Pipeline\n",
        "from sklearn.datasets import fetch_openml\n",
        "from sklearn.preprocessing import StandardScaler\n",
        "from sklearn.ensemble import RandomForestClassifier\n",
        "from sklearn.model_selection import train_test_split\n",
        "from sklearn.base import BaseEstimator, TransformerMixin\n",
        "from sklearn.metrics import confusion_matrix, classification_report\n",
        "\n",
        "import matplotlib.pyplot as plt"
      ]
    },
    {
      "cell_type": "code",
      "execution_count": 0,
      "metadata": {
        "colab": {},
        "colab_type": "code",
        "id": "Kzs4sktw5od1"
      },
      "outputs": [],
      "source": [
        "IMAGE_SIZE = 28"
      ]
    },
    {
      "cell_type": "code",
      "execution_count": 0,
      "metadata": {
        "colab": {},
        "colab_type": "code",
        "id": "SMxCfDE52ImT"
      },
      "outputs": [],
      "source": [
        "x, y = fetch_openml('mnist_784', return_X_y=True)\n",
        "y = y.astype(np.int32)"
      ]
    },
    {
      "cell_type": "code",
      "execution_count": 0,
      "metadata": {
        "cellView": "both",
        "colab": {},
        "colab_type": "code",
        "id": "rpJdEMx21c25"
      },
      "outputs": [],
      "source": [
        "#@title Code to add noise to MNIST images\n",
        "class Deformation(object):\n",
        "\n",
        "  def __init__(self, proba):\n",
        "    self.proba = proba\n",
        "\n",
        "  def transform(self, x):\n",
        "    pass\n",
        "\n",
        "  def __call__(self, x):\n",
        "    if np.random.random() > self.proba:\n",
        "      return x\n",
        "    \n",
        "    return self.transform(x)\n",
        "\n",
        "class WhitePatch(Deformation):\n",
        "  def transform(self, x):\n",
        "    patch_size = np.random.randint(5, high=15, size=2)\n",
        "    patch_location = np.random.randint(IMAGE_SIZE/5, IMAGE_SIZE - IMAGE_SIZE/5, size=2)\n",
        "    x1, y1 = patch_location\n",
        "    x2, y2 = np.clip(patch_size + patch_location, 0, IMAGE_SIZE - 1)\n",
        "    x[y1: y2, x1: x2] = 255.\n",
        "    return x\n",
        "\n",
        "class DropPixels(Deformation):\n",
        "  def transform(self, x):\n",
        "    pix_2_drop = np.random.choice([0, 1], p=[.75, .25], size=(28, 28))\n",
        "    pix_2_drop = np.where(pix_2_drop)\n",
        "    x[pix_2_drop] = 255.\n",
        "    return x\n",
        "\n",
        "class DeformationPipeline(object):\n",
        "  def __init__(self, *deformations):\n",
        "    self.deformations = deformations\n",
        "  \n",
        "  def __call__(self, x):\n",
        "    x = x.reshape(IMAGE_SIZE, IMAGE_SIZE)\n",
        "    for d in self.deformations:\n",
        "      x = d(x)\n",
        "    return x.reshape(-1)\n",
        "\n",
        "noise_mnist = DeformationPipeline(WhitePatch(7.), \n",
        "                                  DropPixels(8.))"
      ]
    },
    {
      "cell_type": "markdown",
      "metadata": {
        "colab_type": "text",
        "id": "-wCsVHy0ZTdU"
      },
      "source": [
        "In the previous notebook, we trained a model capable of recognizing handwritten digits with high reliability (around 93% f1-score). Furthermore, we did it without much effort. \n",
        "\n",
        "But what happens if we add random noise to MNIST images? Will our model learn as well as it did with clean data? Of course not, we will have to tweak our model to improve its ability to generalize with noised data. \n",
        "\n",
        "Here is where you are going to be working. Your goal in this challenge is to develop an intelligent model capable of recognizing handwritten digits, even with noise on top of them. \n",
        "\n",
        "Now let's take a quick overview to `noised MNIST`.\n",
        "\n",
        "> In the previous code cell, we developed a pipeline that adds noise to images randomly. Using this code we are going to generate the new MNIST dataset and export it, so you can work with it on your computer.\n"
      ]
    },
    {
      "cell_type": "code",
      "execution_count": 0,
      "metadata": {
        "colab": {},
        "colab_type": "code",
        "id": "u_mEdzdQ6LJk"
      },
      "outputs": [],
      "source": [
        "# Convert add noise to all data\n",
        "noised_x = np.stack([noise_mnist(o) for o in x])"
      ]
    },
    {
      "cell_type": "markdown",
      "metadata": {
        "colab_type": "text",
        "id": "Gw-auus1dxgS"
      },
      "source": [
        "Plot an image of each class to see the resulting noised data."
      ]
    },
    {
      "cell_type": "code",
      "execution_count": 6,
      "metadata": {
        "colab": {
          "base_uri": "https://localhost:8080/",
          "height": 94
        },
        "colab_type": "code",
        "id": "J0X84cYQdgqG",
        "outputId": "91af1d96-ceae-4aef-cd24-42cf8d522993"
      },
      "outputs": [
        {
          "data": {
            "image/png": "[encoded data removed]",
            "text/plain": [
              "<Figure size 720x720 with 10 Axes>"
            ]
          },
          "metadata": {
            "tags": []
          },
          "output_type": "display_data"
        }
      ],
      "source": [
        "cols = 10\n",
        "rows = 1\n",
        "plt.figure(figsize=(10, 10))\n",
        "for l in range(10): # Digits from 0 to 9\n",
        "  plt.subplot(rows, cols, l + 1)\n",
        "  l_digits = noised_x[y == l]\n",
        "  idx = np.random.randint(0, high=l_digits.shape[0], size=1)\n",
        "  \n",
        "  im = l_digits[idx]\n",
        "  im = im.astype(np.float32) / 255.\n",
        "  im = im.reshape(28, 28)\n",
        "  \n",
        "  plt.title(l)\n",
        "  plt.imshow(im, cmap='gray')\n",
        "  plt.axis('off')"
      ]
    },
    {
      "cell_type": "markdown",
      "metadata": {
        "colab_type": "text",
        "id": "IEFhB4dAeUNM"
      },
      "source": [
        "As we can see, some numbers are hard to identify even by humans' eyes, but other numbers remains equals as original data. \n",
        "\n",
        "As we did in the example notebook, we are going to devide out dataset into a train and a test set, so later we can validate our model and check if it generalizes well to unseen data."
      ]
    },
    {
      "cell_type": "code",
      "execution_count": 0,
      "metadata": {
        "colab": {},
        "colab_type": "code",
        "id": "nHuesHujfAn0"
      },
      "outputs": [],
      "source": [
        "x_train, x_test, y_train, y_test = train_test_split(x, y, test_size=.33)"
      ]
    },
    {
      "cell_type": "markdown",
      "metadata": {
        "colab_type": "text",
        "id": "FRfu8LO-yg7J"
      },
      "source": [
        "Before starting with the training phase, we first serialize the noised data in order to upload it to a public domain and therefore make the new data set available for people who are taking part in the challenge."
      ]
    },
    {
      "cell_type": "code",
      "execution_count": 0,
      "metadata": {
        "colab": {},
        "colab_type": "code",
        "id": "wguq6Evu9Sie"
      },
      "outputs": [],
      "source": [
        "np.savez_compressed('noised-MNIST.npz', x=x_train, y=y_train, x_submission=x_test)\n",
        "np.savez_compressed('noised-MNIST-secret.npz', x=x_test, y=y_test)"
      ]
    },
    {
      "cell_type": "markdown",
      "metadata": {
        "colab_type": "text",
        "id": "SUerjag39WOA"
      },
      "source": [
        "Now, we are going to train the model and evaluate it as we did in the previous notebook and see how the resulting model behaves with the new noised data."
      ]
    },
    {
      "cell_type": "code",
      "execution_count": 8,
      "metadata": {
        "cellView": "form",
        "colab": {
          "base_uri": "https://localhost:8080/",
          "height": 148
        },
        "colab_type": "code",
        "id": "Qtz7hwWMy2Kc",
        "outputId": "69672262-892c-476d-e8c6-cee2ad3cc44d"
      },
      "outputs": [
        {
          "data": {
            "text/plain": [
              "RandomForestClassifier(bootstrap=True, class_weight=None, criterion='gini',\n",
              "                       max_depth=10, max_features='auto', max_leaf_nodes=None,\n",
              "                       min_impurity_decrease=0.0, min_impurity_split=None,\n",
              "                       min_samples_leaf=1, min_samples_split=2,\n",
              "                       min_weight_fraction_leaf=0.0, n_estimators=20,\n",
              "                       n_jobs=None, oob_score=False, random_state=None,\n",
              "                       verbose=0, warm_start=False)"
            ]
          },
          "execution_count": 8,
          "metadata": {
            "tags": []
          },
          "output_type": "execute_result"
        }
      ],
      "source": [
        "#@title Training code\n",
        "class ImageScaler(BaseEstimator, TransformerMixin):\n",
        "\n",
        "  def __init__(self, scale_factor):\n",
        "    self.scale_factor = scale_factor\n",
        "\n",
        "  def fit(self, x, y=None):\n",
        "    return self\n",
        "  \n",
        "  def transform(self, x):\n",
        "    x = x.astype(np.float64)\n",
        "    x = x / float(self.scale_factor)\n",
        "    x = np.clip(x, 0, 1.)\n",
        "    return x\n",
        "\n",
        "preprocessing_pipeline = Pipeline([('scale', ImageScaler(255)), \n",
        "                                   ('standardize', StandardScaler())])\n",
        "\n",
        "x_train_prep = preprocessing_pipeline.fit_transform(x_train)\n",
        "rnd_forest = RandomForestClassifier(n_estimators=20, max_depth=10)\n",
        "rnd_forest.fit(x_train_prep, y_train)"
      ]
    },
    {
      "cell_type": "code",
      "execution_count": 0,
      "metadata": {
        "colab": {},
        "colab_type": "code",
        "id": "sW_yLfzVzjln"
      },
      "outputs": [],
      "source": [
        "y_pred = rnd_forest.predict(preprocessing_pipeline.transform(x_test))"
      ]
    },
    {
      "cell_type": "code",
      "execution_count": 10,
      "metadata": {
        "colab": {
          "base_uri": "https://localhost:8080/",
          "height": 613
        },
        "colab_type": "code",
        "id": "dCBzji7M4atP",
        "outputId": "65b54495-431e-4354-eaf6-654832d6419d"
      },
      "outputs": [
        {
          "name": "stdout",
          "output_type": "stream",
          "text": [
            "              precision    recall  f1-score   support\n",
            "\n",
            "           0       0.85      0.85      0.85      2316\n",
            "           1       0.77      0.92      0.84      2634\n",
            "           2       0.80      0.71      0.75      2274\n",
            "           3       0.73      0.70      0.71      2315\n",
            "           4       0.76      0.76      0.76      2218\n",
            "           5       0.79      0.51      0.62      2055\n",
            "           6       0.80      0.82      0.81      2285\n",
            "           7       0.77      0.77      0.77      2447\n",
            "           8       0.67      0.67      0.67      2286\n",
            "           9       0.61      0.75      0.67      2270\n",
            "\n",
            "    accuracy                           0.75     23100\n",
            "   macro avg       0.75      0.75      0.75     23100\n",
            "weighted avg       0.75      0.75      0.75     23100\n",
            "\n"
          ]
        },
        {
          "data": {
            "image/png": "[encoded data removed]",
            "text/plain": [
              "<Figure size 432x288 with 2 Axes>"
            ]
          },
          "metadata": {
            "tags": []
          },
          "output_type": "display_data"
        }
      ],
      "source": [
        "def plot_confusion_matrix(y_true, y_pred,\n",
        "                          cmap=plt.cm.Blues):\n",
        "\n",
        "    title = 'Confusion matrix'\n",
        "    cm = confusion_matrix(y_true, y_pred)\n",
        "    cm = cm.astype('float') / cm.sum(axis=1)[:, np.newaxis]\n",
        "      \n",
        "    fig, ax = plt.subplots()\n",
        "    im = ax.imshow(cm, interpolation='nearest', cmap=cmap)\n",
        "    ax.figure.colorbar(im, ax=ax)\n",
        "    ax.set(xticks=np.arange(cm.shape[1]),\n",
        "           yticks=np.arange(cm.shape[0]),\n",
        "           title=title,\n",
        "           ylabel='True label',\n",
        "           xlabel='Predicted label')\n",
        "\n",
        "\n",
        "print(classification_report(y_test, y_pred))\n",
        "plot_confusion_matrix(y_test, y_pred)\n",
        "plt.show()"
      ]
    },
    {
      "cell_type": "markdown",
      "metadata": {
        "colab_type": "text",
        "id": "lxmogO0S4brd"
      },
      "source": [
        "As expected, we can see a performance drop on the model, approximately by a 20% of accuracy.\n",
        "\n",
        "## The challenge\n",
        "\n",
        "We want you to develop a model using the **noised MNIST dataset** (We are going to provide you a link to download it) and upload your predictions in a csv file.\n",
        "\n",
        "\n",
        "✔ What is allowed\n",
        "\n",
        "- You can use any python package\n",
        "- You can use any data set, even the original MNIST data\n",
        "- You can share ideas with your friends (but remember the challenge is individual)\n",
        "\n",
        "⛔ What is forbidden\n",
        "\n",
        "- You cannot use pretrained models\n",
        "- Manual intervention, like manual data labeling. We expect you to develop an autonomous system\n",
        "\n",
        "## Challenge evaluation\n",
        "\n",
        "To evaluate your submissions we are going to generate different metrics based on your submission file. The metrics that we are going to compute are the ones that we have seen during this 2 notebooks:\n",
        "- Precision\n",
        "- Recall\n",
        "- f1-score\n",
        "- Confussion Matrix\n",
        "\n",
        "Apart from the metrics, we are going to evaluate the approach to solve the challenge. So an incredible and innovative approach may be the way to go 🐱.\n",
        "\n",
        "\n",
        "## How to make a submission\n",
        "\n",
        "1. Download the provided data from [here](https://firebasestorage.googleapis.com/v0/b/hackeps-2019.appspot.com/o/noised-MNIST.npz?alt=media&token=4cee641b-9e31-42c4-b9c8-e771d2eecbad)\n",
        "2. Train a model and perform inference on the `x_submission`\n",
        "3. Upload a txt file containing the predicted labels. Each line will contain the label corresponding to the `nth` instance of the `x_submission` array.\n",
        "\n",
        "Check the submission example provided [here](https://github.com/Guillem96/noised-mnist-challenge/tree/master/submission-example) "
      ]
    }
  ]
}