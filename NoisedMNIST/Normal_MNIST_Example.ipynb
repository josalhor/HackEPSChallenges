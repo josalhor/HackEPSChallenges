{
  "nbformat": 4,
  "nbformat_minor": 0,
  "metadata": {
    "kernelspec": {
      "display_name": "Python 3",
      "language": "python",
      "name": "python3"
    },
    "language_info": {
      "codemirror_mode": {
        "name": "ipython",
        "version": 3
      },
      "file_extension": ".py",
      "mimetype": "text/x-python",
      "name": "python",
      "nbconvert_exporter": "python",
      "pygments_lexer": "ipython3",
      "version": "3.6.8"
    },
    "colab": {
      "name": "Copia de Normal MNIST Example.ipynb",
      "provenance": [],
      "include_colab_link": true
    }
  },
  "cells": [
    {
      "cell_type": "markdown",
      "metadata": {
        "id": "view-in-github",
        "colab_type": "text"
      },
      "source": [
        "<a href=\"https://colab.research.google.com/github/Guillem96/noised-mnist-challenge/blob/master/Normal_MNIST_Example.ipynb\" target=\"_parent\"><img src=\"https://colab.research.google.com/assets/colab-badge.svg\" alt=\"Open In Colab\"/></a>"
      ]
    },
    {
      "cell_type": "markdown",
      "metadata": {
        "colab_type": "text",
        "id": "pnuxdepKtDbO"
      },
      "source": [
        "# MNIST Classifier Example"
      ]
    },
    {
      "cell_type": "markdown",
      "metadata": {
        "colab_type": "text",
        "id": "2xcDzsnTtDbX"
      },
      "source": [
        "## Before you read\n",
        "\n",
        "This notebook is not a learning guide. We only want to provide a quick overview of what a machine learning project pipeline looks like. \n",
        "\n",
        "What you should expect from this notebook:\n",
        "\n",
        "- Little explanations about each machine learning project phase\n",
        "- Some machine learning good practices\n",
        "- Learn which are the trending technologies used in 'traditional ML'.\n",
        "\n",
        "> Note: We refer as 'traditional ML' the machine learning techniques which are not related to deep learning algorithms. We do so to simplify writing and avoid conflicting terms and therfore making certain fanbases angry😨\n",
        "\n",
        "\n",
        "Reading this notebook, you will acquire the necessary machine learning skills to at least sent us a solution for the proposed challenge. Also, we encourage you to take part in the challenge, because having a basic understanding of artificial intelligence will help you a lot during the hackathon 😉\n",
        "\n",
        "If you want to acquire a stronger machine learning base, we recommend you to read this [book](https://www.amazon.es/Hands-Machine-Learning-Scikit-Learn-TensorFlow/dp/1492032646). Also you can check the book's code freely [here](https://github.com/ageron/handson-ml2).\n",
        "\n",
        "\n",
        "🏁 Without further ado we start with the MNIST example!\n",
        "\n",
        "First of all we load the libraries which will be using during the example."
      ]
    },
    {
      "cell_type": "code",
      "metadata": {
        "colab_type": "code",
        "id": "ARDxJLfEtDba",
        "colab": {}
      },
      "source": [
        "from collections import Counter\n",
        "\n",
        "import numpy as np\n",
        "\n",
        "from sklearn.pipeline import Pipeline\n",
        "from sklearn.datasets import fetch_openml\n",
        "from sklearn.preprocessing import StandardScaler\n",
        "from sklearn.ensemble import RandomForestClassifier\n",
        "from sklearn.model_selection import train_test_split\n",
        "from sklearn.base import BaseEstimator, TransformerMixin\n",
        "from sklearn.metrics import confusion_matrix, classification_report\n",
        "\n",
        "import matplotlib.pyplot as plt"
      ],
      "execution_count": 0,
      "outputs": []
    },
    {
      "cell_type": "markdown",
      "metadata": {
        "colab_type": "text",
        "id": "e3DXH8jUtDbn"
      },
      "source": [
        "## Essential libraries (& environments) for data science"
      ]
    },
    {
      "cell_type": "markdown",
      "metadata": {
        "colab_type": "text",
        "id": "VgLwFsWPtDbr"
      },
      "source": [
        "### Jupyter notebook\n",
        "\n",
        "The Jupyter Notebook is an open-source web application that allows you to create and share documents that contain live code, equations, visualizations and explanatory text.\n",
        "\n",
        "Learn more about jupyter notebook [here](https://www.datacamp.com/community/tutorials/tutorial-jupyter-notebook).\n",
        "\n",
        "### Google Colab\n",
        "\n",
        "Colaboratory is a free Jupyter notebook environment that requires no setup and runs entirely in the cloud.\n",
        "\n",
        "With Colaboratory you can write and execute code, save and share your analyses, and access powerful computing resources, all for free from your browser.\n",
        "\n",
        "We recommend you to run this notebook by clicking the top button: `Open in Colab`.\n",
        "\n",
        "### Numpy\n",
        "\n",
        "NumPy is the fundamental package for scientific computing with Python. It contains among other things:\n",
        "\n",
        "- a powerful N-dimensional array object\n",
        "- sophisticated (broadcasting) functions\n",
        "- tools for integrating C/C++ and Fortran code\n",
        "- useful linear algebra, Fourier transform, and random number capabilities\n",
        "\n",
        "[Getting started with NumPy!](https://docs.scipy.org/doc/numpy/user/quickstart.html)\n",
        "\n",
        "## Pandas\n",
        "\n",
        "pandas is an open source, BSD-licensed library providing high-performance, easy-to-use data structures and data analysis tools for the Python programming language.\n",
        "\n",
        "[Getting started with pandas!](https://towardsdatascience.com/a-quick-introduction-to-the-pandas-python-library-f1b678f34673)\n",
        "\n",
        "## Scikit-learn (sklearn)\n",
        "\n",
        "Scikit-learn is a Python module integrating a wide range of state-of-the-art machine learning algorithms for medium-scale supervised and unsupervised problems. This package focuses on bringing machine learning to non-specialists using a general-purpose high-level language. Emphasis is put on ease of use, performance, documentation, and API consistency. It has minimal dependencies and is distributed under the simplified BSD license, encouraging its use in both academic and commercial settings.\n",
        "\n",
        "[Getting started with Sklearn](https://scikit-learn.org/stable/tutorial/basic/tutorial.html)"
      ]
    },
    {
      "cell_type": "markdown",
      "metadata": {
        "colab_type": "text",
        "id": "YLbcL_vvtDb3"
      },
      "source": [
        "## Data ingestion\n",
        "\n",
        "In this example we are going to use one of the most important ML datasets, MNIST.\n",
        "\n",
        "MNIST (\"Modified National Institute of Standards and Technology\") is the de facto “hello world” dataset of computer vision. Since its release in 1999, this classic dataset of handwritten images has served as the basis for benchmarking classification algorithms. As new machine learning techniques emerge, MNIST remains a reliable resource for researchers and learners alike. The MNIST database contains 60,000 training images and 10,000 testing images. \n",
        "\n",
        "![](https://corochann.com/wp-content/uploads/2017/02/mnist_plot-800x600.png)\n",
        "\n",
        "Now, let's start coding 😁.\n",
        "\n",
        "First of all, we need to gather the MNIST dataset. To do so, we are going to use the `fetch_openml` function that is provided by sklearn.\n",
        "\n",
        "`fetch_openml` will download MNIST images to our computer and format them in order to return and x `numpy array` containing all the images and a y `numpy array` containing the image labels.\n",
        "\n",
        "\n"
      ]
    },
    {
      "cell_type": "code",
      "metadata": {
        "colab_type": "code",
        "id": "CiGNtg7ftDb6",
        "colab": {}
      },
      "source": [
        "x, y = fetch_openml('mnist_784', return_X_y=True)\n",
        "y = y.astype(np.int32)"
      ],
      "execution_count": 0,
      "outputs": []
    },
    {
      "cell_type": "code",
      "metadata": {
        "colab_type": "code",
        "id": "fIz-fjFstDcF",
        "outputId": "b22b5275-24b0-40a7-82b3-0d6cc655f0fc",
        "colab": {
          "base_uri": "https://localhost:8080/",
          "height": 36
        }
      },
      "source": [
        "print('Total images {}, Image size in pixels {}'.format(*x.shape))"
      ],
      "execution_count": 0,
      "outputs": [
        {
          "output_type": "stream",
          "text": [
            "Total images 70000, Image size in pixels 784\n"
          ],
          "name": "stdout"
        }
      ]
    },
    {
      "cell_type": "markdown",
      "metadata": {
        "colab_type": "text",
        "id": "PNTFv4liyiIU"
      },
      "source": [
        "As we said earlier, we have 70000 images, each one being a number between 0 and 9 inclusive.\n",
        "\n",
        "In this case, the data ingestion was simple because `sklearn` handled it for us, but sometimes performing a good data ingestion can become really hard.\n",
        "\n",
        "Notice that image shape is 784 pixels. That is because `sklearn` flattens the images so we can feed them into a 'traditional ML algorithm' easier. So, if we want to plot the image or convert it to a tensor to use deep learning techniques, we will have to reshape it to their original size `(28, 28)`"
      ]
    },
    {
      "cell_type": "markdown",
      "metadata": {
        "colab_type": "text",
        "id": "50rMBTqztDcM"
      },
      "source": [
        "## Data exploration\n",
        "\n",
        "Data exploration is an approach similar to initial data analysis, whereby a data analyst uses visual exploration to understand what is in a dataset and the characteristics of the data, rather than through traditional data management systems.\n",
        "\n",
        "As we are working with a well-know dataset our data exploration phase will be quite short.\n",
        "\n",
        "First we are going to plot a pie chart to know the labels distribution. "
      ]
    },
    {
      "cell_type": "code",
      "metadata": {
        "colab_type": "code",
        "id": "WT2Qr17ktDcN",
        "outputId": "7f4df939-c65d-4e3f-e685-d047703c0f89",
        "colab": {
          "base_uri": "https://localhost:8080/",
          "height": 255
        }
      },
      "source": [
        "labels_freq = Counter(y) \n",
        "plt.pie(labels_freq.values(), \n",
        "        labels=list(labels_freq))\n",
        "plt.show()"
      ],
      "execution_count": 0,
      "outputs": [
        {
          "output_type": "display_data",
          "data": {
            "image/png": "[encoded data removed]",
            "text/plain": [
              "<Figure size 432x288 with 1 Axes>"
            ]
          },
          "metadata": {
            "tags": []
          }
        }
      ]
    },
    {
      "cell_type": "markdown",
      "metadata": {
        "colab_type": "text",
        "id": "ec0e6WsutDcZ"
      },
      "source": [
        "As expected, MNIST is a blanced dataset, meaning that it contains equal or almost equal number of samples from every class. \n",
        "\n",
        "Finally, in a computer vision problem, is a good practice to at least plot one sample of each class. In the following cell, we are going to plot a random sample of each digit."
      ]
    },
    {
      "cell_type": "code",
      "metadata": {
        "colab_type": "code",
        "id": "5dit1z9WD3lh",
        "outputId": "0fe0bbd0-b40e-4764-bb96-64e1f4fcd90f",
        "colab": {
          "base_uri": "https://localhost:8080/",
          "height": 111
        }
      },
      "source": [
        "cols = 10\n",
        "rows = 1\n",
        "plt.figure(figsize=(10, 10))\n",
        "for l in range(10): # Digits from 0 to 9\n",
        "  plt.subplot(rows, cols, l + 1)\n",
        "  l_digits = x[y == l]\n",
        "  idx = np.random.randint(0, high=l_digits.shape[0], size=1)\n",
        "  \n",
        "  im = l_digits[idx]\n",
        "  im = im.astype(np.float32) / 255.\n",
        "  im = im.reshape(28, 28)\n",
        "  \n",
        "  plt.title(l)\n",
        "  plt.imshow(im, cmap='binary')\n",
        "  plt.axis('off')"
      ],
      "execution_count": 0,
      "outputs": [
        {
          "output_type": "display_data",
          "data": {
            "image/png": "[encoded data removed]",
            "text/plain": [
              "<Figure size 720x720 with 10 Axes>"
            ]
          },
          "metadata": {
            "tags": []
          }
        }
      ]
    },
    {
      "cell_type": "markdown",
      "metadata": {
        "colab_type": "text",
        "id": "KMu0CBNcHYU-"
      },
      "source": [
        "## Train a model\n",
        "\n",
        "Finally the cool part! 😁\n",
        "\n",
        "In this section, we will train a model to recognize the handwritten digits.\n",
        "\n",
        "When training an ML model is always a good practice to keep a sample of the data apart from the data we use to train the algorithm. This will allow us to evaluate our model using 'unseen' data. So, what we are going to do know is:\n",
        "\n",
        "1. Split data between training and a test set.\n",
        "  - **Training set**: Data sample used to train the model.\n",
        "  - **Test set**: Data sample used to evaluate the resulting model.\n",
        "2. Transform data to improve algorithm performance.\n",
        "3. Train the algorithm with the transformed data.\n",
        "4. Evaluate the model using classification metrics including: `precision`, `recall`, `confusion matrix`, etc."
      ]
    },
    {
      "cell_type": "code",
      "metadata": {
        "colab_type": "code",
        "id": "b867fdfkLUnQ",
        "colab": {}
      },
      "source": [
        "# Create two data sets, one for training and the other one to evaluate the \n",
        "# resulting model\n",
        "x_train, x_test, y_train, y_test = train_test_split(x, y, \n",
        "                                                    test_size=.33, \n",
        "                                                    random_state=42)"
      ],
      "execution_count": 0,
      "outputs": []
    },
    {
      "cell_type": "markdown",
      "metadata": {
        "colab_type": "text",
        "id": "-T2YCIhKYXmx"
      },
      "source": [
        "The data transformation is done using a sklearn pipeline.\n",
        "A pipeline applies a set of transformations sequentially. One of the most important reasons to use pipelines is to simplify the [reproducibility](https://determined.ai/blog/reproducibility-in-ml) among the different experiments involving data.\n",
        "\n",
        "In this example, the pipeline is composed of 2 steps:\n",
        "\n",
        "1. *ImageScaler*: Usually image colors are represented using bytes (integers of 8 bits ranging from 0 up to 255). Usually, ML algorithms work better with small numbers, so this transformation divides all color bytes by 255 in the order they are scaled between 0 and 1. \n",
        "\n",
        "2. [*StandardScaler*](https://scikit-learn.org/stable/modules/generated/sklearn.preprocessing.StandardScaler.html): In statistics, **standardization** is the process of putting different variables on the same **scale**. This process allows you to compare scores between different types of variables. Typically, to standardize variables, you calculate the **mean** and **standard deviation** for a variable. Furthermore, having all features represented on the same scale will allow the algorithm to generate better rules.\n"
      ]
    },
    {
      "cell_type": "code",
      "metadata": {
        "colab_type": "code",
        "id": "UOSJgnwQLj9F",
        "colab": {}
      },
      "source": [
        "# We can define custom transformers of pipelines\n",
        "class ImageScaler(BaseEstimator, TransformerMixin):\n",
        "\n",
        "  def __init__(self, scale_factor):\n",
        "    self.scale_factor = scale_factor\n",
        "\n",
        "  def fit(self, x, y=None):\n",
        "    return self\n",
        "  \n",
        "  def transform(self, x):\n",
        "    x = x.astype(np.float64)\n",
        "    x = x / float(self.scale_factor)\n",
        "    return x\n",
        "\n",
        "preprocessing_pipeline = Pipeline([('scale', ImageScaler(255)), \n",
        "                                   ('standardize', StandardScaler())])"
      ],
      "execution_count": 0,
      "outputs": []
    },
    {
      "cell_type": "code",
      "metadata": {
        "colab_type": "code",
        "id": "hxpEySqRMkFt",
        "colab": {}
      },
      "source": [
        "# Apply the transformation\n",
        "# Note: That we also fit the pipeline here, this is because\n",
        "# we want the StandardScaler to learn the mean and std deviation\n",
        "# of the training set\n",
        "x_train_prep = preprocessing_pipeline.fit_transform(x_train)"
      ],
      "execution_count": 0,
      "outputs": []
    },
    {
      "cell_type": "code",
      "metadata": {
        "colab_type": "code",
        "id": "VbSl_KFkM563",
        "outputId": "d0b636db-5d7f-4c39-cf6b-8b55c1fe51a4",
        "colab": {
          "base_uri": "https://localhost:8080/",
          "height": 148
        }
      },
      "source": [
        "# Train the model\n",
        "rnd_forest = RandomForestClassifier(n_estimators=20, max_depth=10)\n",
        "rnd_forest.fit(x_train_prep, y_train)"
      ],
      "execution_count": 0,
      "outputs": [
        {
          "output_type": "execute_result",
          "data": {
            "text/plain": [
              "RandomForestClassifier(bootstrap=True, class_weight=None, criterion='gini',\n",
              "                       max_depth=10, max_features='auto', max_leaf_nodes=None,\n",
              "                       min_impurity_decrease=0.0, min_impurity_split=None,\n",
              "                       min_samples_leaf=1, min_samples_split=2,\n",
              "                       min_weight_fraction_leaf=0.0, n_estimators=20,\n",
              "                       n_jobs=None, oob_score=False, random_state=None,\n",
              "                       verbose=0, warm_start=False)"
            ]
          },
          "metadata": {
            "tags": []
          },
          "execution_count": 9
        }
      ]
    },
    {
      "cell_type": "markdown",
      "metadata": {
        "colab_type": "text",
        "id": "rLuWGb-dRK8u"
      },
      "source": [
        "## Evaluate the model\n",
        "\n",
        "\n",
        "The last thing we have to do is evaluate our model to know if it is good enough to be deployed in a production environment.\n",
        "\n",
        "We won't dive into the evaluation methods here. If you are interested in classification metrics you can read this [article](https://medium.com/thalus-ai/performance-metrics-for-classification-problems-in-machine-learning-part-i-b085d432082b)."
      ]
    },
    {
      "cell_type": "code",
      "metadata": {
        "colab_type": "code",
        "id": "KcRHpq54NIM8",
        "colab": {}
      },
      "source": [
        "# Note: Here we only call transform because we are using the mean and std\n",
        "# learned from the training set\n",
        "x_test_prep = preprocessing_pipeline.transform(x_test)"
      ],
      "execution_count": 0,
      "outputs": []
    },
    {
      "cell_type": "code",
      "metadata": {
        "colab_type": "code",
        "id": "NPI2UwPXNQ7G",
        "colab": {}
      },
      "source": [
        "# Make predictions\n",
        "y_pred = rnd_forest.predict(x_test_prep)"
      ],
      "execution_count": 0,
      "outputs": []
    },
    {
      "cell_type": "markdown",
      "metadata": {
        "colab_type": "text",
        "id": "iYY9rpIYbkAN"
      },
      "source": [
        "To end with the example, we display the evaluation metrics of the model.\n"
      ]
    },
    {
      "cell_type": "code",
      "metadata": {
        "colab_type": "code",
        "id": "44wUX5SRNVby",
        "outputId": "f544c2ae-a78d-4aeb-aff0-c4ebaac3c822",
        "colab": {
          "base_uri": "https://localhost:8080/",
          "height": 615
        }
      },
      "source": [
        "def plot_confusion_matrix(y_true, y_pred,\n",
        "                          cmap=plt.cm.Blues):\n",
        "\n",
        "    title = 'Confusion matrix'\n",
        "    cm = confusion_matrix(y_true, y_pred)\n",
        "    cm = cm.astype('float') / cm.sum(axis=1)[:, np.newaxis]\n",
        "      \n",
        "    fig, ax = plt.subplots()\n",
        "    im = ax.imshow(cm, interpolation='nearest', cmap=cmap)\n",
        "    ax.figure.colorbar(im, ax=ax)\n",
        "    ax.set(xticks=np.arange(cm.shape[1]),\n",
        "           yticks=np.arange(cm.shape[0]),\n",
        "           title=title,\n",
        "           ylabel='True label',\n",
        "           xlabel='Predicted label')\n",
        "\n",
        "    fig.tight_layout()\n",
        "\n",
        "print(classification_report(y_test, y_pred))\n",
        "plot_confusion_matrix(y_test, y_pred)\n",
        "plt.show()"
      ],
      "execution_count": 0,
      "outputs": [
        {
          "output_type": "stream",
          "text": [
            "              precision    recall  f1-score   support\n",
            "\n",
            "           0       0.97      0.97      0.97      2267\n",
            "           1       0.95      0.98      0.97      2603\n",
            "           2       0.93      0.93      0.93      2350\n",
            "           3       0.93      0.91      0.92      2383\n",
            "           4       0.93      0.92      0.93      2144\n",
            "           5       0.95      0.92      0.94      2107\n",
            "           6       0.96      0.97      0.96      2294\n",
            "           7       0.95      0.93      0.94      2455\n",
            "           8       0.92      0.90      0.91      2196\n",
            "           9       0.88      0.92      0.90      2301\n",
            "\n",
            "    accuracy                           0.94     23100\n",
            "   macro avg       0.94      0.94      0.94     23100\n",
            "weighted avg       0.94      0.94      0.94     23100\n",
            "\n"
          ],
          "name": "stdout"
        },
        {
          "output_type": "display_data",
          "data": {
            "image/png": "[encoded data removed]",
            "text/plain": [
              "<Figure size 432x288 with 2 Axes>"
            ]
          },
          "metadata": {
            "tags": []
          }
        }
      ]
    },
    {
      "cell_type": "markdown",
      "metadata": {
        "colab_type": "text",
        "id": "i1zMZGgHbtDR"
      },
      "source": [
        "Wow! We got an almost perfect `confusion_matrix` 😎!!! \n",
        "\n",
        "Wait, clam down... we developed this model without making so much effort... You will have to think a little bit harder to complete the challenge successfully...🤔\n",
        "\n",
        "We hope you learned a lot visiting this example and we are looking forward you in the **Noised MNIST challenge**."
      ]
    }
  ]
}